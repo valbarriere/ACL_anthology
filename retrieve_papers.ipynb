{
 "cells": [
  {
   "cell_type": "markdown",
   "id": "4e2c516b-9338-489c-a1e5-39c0669f7ed1",
   "metadata": {},
   "source": [
    "# Retrieve papers from the ACL Anthology"
   ]
  },
  {
   "cell_type": "markdown",
   "id": "2160965f-f039-4638-b7f2-ac691b88b7e8",
   "metadata": {},
   "source": [
    "## Install the package"
   ]
  },
  {
   "cell_type": "code",
   "execution_count": 2,
   "id": "025dfa26-4e0c-41e1-a721-7c704133f9f7",
   "metadata": {
    "tags": []
   },
   "outputs": [],
   "source": [
    "# ! pip install acl-anthology-py"
   ]
  },
  {
   "cell_type": "markdown",
   "id": "a086c3ab-613b-4e62-a554-4c9c12cee5fa",
   "metadata": {},
   "source": [
    "## Create the dataframe of the papers containing the keywords "
   ]
  },
  {
   "cell_type": "code",
   "execution_count": 3,
   "id": "205d5230-ff25-42f3-b152-4ecf33a4ec61",
   "metadata": {
    "tags": []
   },
   "outputs": [
    {
     "data": {
      "text/html": [
       "<pre style=\"white-space:pre;overflow-x:auto;line-height:normal;font-family:Menlo,'DejaVu Sans Mono',consolas,'Courier New',monospace\">\n",
       "</pre>\n"
      ],
      "text/plain": [
       "\n"
      ]
     },
     "metadata": {},
     "output_type": "display_data"
    }
   ],
   "source": [
    "from acl_anthology import Anthology\n",
    "from datetime import datetime\n",
    "from tqdm import tqdm\n",
    "import re\n",
    "import pandas as pd \n",
    "\n",
    "n_year = 4\n",
    "\n",
    "# Filter out the workshop papers \n",
    "bool_filter_ws = True\n",
    "\n",
    "# Define the list of keywords\n",
    "# keywords = [\"stance\", \"argument\"]  # Add more keywords as needed\n",
    "keywords = [\"stance\"]\n",
    "\n",
    "# Create a single regex pattern that matches any of the keywords\n",
    "pattern = re.compile(r'\\b(?:' + '|'.join(re.escape(keyword) for keyword in keywords) + r')\\b', re.IGNORECASE)\n",
    "\n",
    "# Initialize the Anthology\n",
    "anthology = Anthology.from_repo()\n",
    "\n",
    "# Get the current year\n",
    "current_year = datetime.now().year\n",
    "\n",
    "# Search for papers with a keyword in the title or abstract, from the last n_year\n",
    "last_n_years = list(range(current_year - n_year+1, current_year + 1))  # last n_year"
   ]
  },
  {
   "cell_type": "code",
   "execution_count": 32,
   "id": "92a23379-8b68-4032-8e31-f910cd9e77c3",
   "metadata": {
    "tags": []
   },
   "outputs": [
    {
     "name": "stderr",
     "output_type": "stream",
     "text": [
      "100470it [00:02, 47402.91it/s]\n"
     ]
    }
   ],
   "source": [
    "matching_papers = [('id', 'title', 'year', 'abstract', 'venues', 'url')] \n",
    "list_mains = ['cl-', 'emnlp', 'coling', 'lrec', 'ijcnlp', 'findings']\n",
    "\n",
    "for paper in tqdm(anthology.papers()):\n",
    "    # Filter by publication year and check for the keyword\n",
    "    title = str(paper.title).lower()\n",
    "    abstract = str(paper.abstract).lower()\n",
    "    \n",
    "    in_title = re.search(pattern, title)\n",
    "    in_abstract = re.search(pattern, abstract)\n",
    "    \n",
    "    year = str(paper.year)\n",
    "    \n",
    "    if int(paper.year) in last_n_years and \\\n",
    "       (in_title or in_abstract):\n",
    "        \n",
    "        list_venues = [event.id for event in paper.get_events()]\n",
    "        \n",
    "        # Filter out workshop papers to keep only the main tracks \n",
    "        url = paper.pdf.url.split('/')[-1]\n",
    "        not_ws = not bool_filter_ws or ((f'ws-{year}' not in list_venues) and sum([event in url for event in list_mains]))\n",
    "        # not_ws = not bool_filter_ws or ((f'ws-{year}' not in list_venues))\n",
    "\n",
    "        if not_ws:\n",
    "            matching_papers.append((paper.id, title, year, abstract, list_venues, url))"
   ]
  },
  {
   "cell_type": "code",
   "execution_count": 33,
   "id": "4ed9235e-04bd-4b60-bb7f-0d6622197b45",
   "metadata": {
    "tags": []
   },
   "outputs": [
    {
     "data": {
      "text/html": [
       "<div>\n",
       "<style scoped>\n",
       "    .dataframe tbody tr th:only-of-type {\n",
       "        vertical-align: middle;\n",
       "    }\n",
       "\n",
       "    .dataframe tbody tr th {\n",
       "        vertical-align: top;\n",
       "    }\n",
       "\n",
       "    .dataframe thead th {\n",
       "        text-align: right;\n",
       "    }\n",
       "</style>\n",
       "<table border=\"1\" class=\"dataframe\">\n",
       "  <thead>\n",
       "    <tr style=\"text-align: right;\">\n",
       "      <th></th>\n",
       "      <th>id</th>\n",
       "      <th>title</th>\n",
       "      <th>year</th>\n",
       "      <th>abstract</th>\n",
       "      <th>venues</th>\n",
       "      <th>url</th>\n",
       "    </tr>\n",
       "  </thead>\n",
       "  <tbody>\n",
       "    <tr>\n",
       "      <th>0</th>\n",
       "      <td>126</td>\n",
       "      <td>syntopical graphs for computational argumentat...</td>\n",
       "      <td>2021</td>\n",
       "      <td>approaches to computational argumentation task...</td>\n",
       "      <td>[ijcnlp-2021, acl-2021]</td>\n",
       "      <td>2021.acl-long.126.pdf</td>\n",
       "    </tr>\n",
       "    <tr>\n",
       "      <th>1</th>\n",
       "      <td>127</td>\n",
       "      <td>stance detection in covid-19 tweets</td>\n",
       "      <td>2021</td>\n",
       "      <td>the prevalence of the covid-19 pandemic in day...</td>\n",
       "      <td>[ijcnlp-2021, acl-2021]</td>\n",
       "      <td>2021.acl-long.127.pdf</td>\n",
       "    </tr>\n",
       "    <tr>\n",
       "      <th>2</th>\n",
       "      <td>128</td>\n",
       "      <td>topic-aware evidence reasoning and stance-awar...</td>\n",
       "      <td>2021</td>\n",
       "      <td>fact verification is a challenging task that r...</td>\n",
       "      <td>[ijcnlp-2021, acl-2021]</td>\n",
       "      <td>2021.acl-long.128.pdf</td>\n",
       "    </tr>\n",
       "    <tr>\n",
       "      <th>3</th>\n",
       "      <td>1</td>\n",
       "      <td>advances in debating technologies: building ai...</td>\n",
       "      <td>2021</td>\n",
       "      <td>the tutorial focuses on debating technologies,...</td>\n",
       "      <td>[ijcnlp-2021, acl-2021]</td>\n",
       "      <td>2021.acl-tutorials.1.pdf</td>\n",
       "    </tr>\n",
       "    <tr>\n",
       "      <th>4</th>\n",
       "      <td>147</td>\n",
       "      <td>learning from revisions: quality assessment of...</td>\n",
       "      <td>2021</td>\n",
       "      <td>assessing the quality of arguments and of the ...</td>\n",
       "      <td>[eacl-2021]</td>\n",
       "      <td>2021.eacl-main.147.pdf</td>\n",
       "    </tr>\n",
       "    <tr>\n",
       "      <th>...</th>\n",
       "      <td>...</td>\n",
       "      <td>...</td>\n",
       "      <td>...</td>\n",
       "      <td>...</td>\n",
       "      <td>...</td>\n",
       "      <td>...</td>\n",
       "    </tr>\n",
       "    <tr>\n",
       "      <th>136</th>\n",
       "      <td>1385</td>\n",
       "      <td>the impact of stance object type on the qualit...</td>\n",
       "      <td>2024</td>\n",
       "      <td>stance as an expression of an author’s standpo...</td>\n",
       "      <td>[lrec-2024, coling-2024]</td>\n",
       "      <td>2024.lrec-main.1385.pdf</td>\n",
       "    </tr>\n",
       "    <tr>\n",
       "      <th>137</th>\n",
       "      <td>1396</td>\n",
       "      <td>the role of creaky voice in turn taking and th...</td>\n",
       "      <td>2024</td>\n",
       "      <td>recent advancements in spontaneous text-to-spe...</td>\n",
       "      <td>[lrec-2024, coling-2024]</td>\n",
       "      <td>2024.lrec-main.1396.pdf</td>\n",
       "    </tr>\n",
       "    <tr>\n",
       "      <th>138</th>\n",
       "      <td>119</td>\n",
       "      <td>p3sum: preserving author’s perspective in news...</td>\n",
       "      <td>2024</td>\n",
       "      <td>in this work, we take a first step towards des...</td>\n",
       "      <td>[naacl-2024]</td>\n",
       "      <td>2024.naacl-long.119.pdf</td>\n",
       "    </tr>\n",
       "    <tr>\n",
       "      <th>139</th>\n",
       "      <td>293</td>\n",
       "      <td>emona: event-level moral opinions in news arti...</td>\n",
       "      <td>2024</td>\n",
       "      <td>most previous research on moral frames has foc...</td>\n",
       "      <td>[naacl-2024]</td>\n",
       "      <td>2024.naacl-long.293.pdf</td>\n",
       "    </tr>\n",
       "    <tr>\n",
       "      <th>140</th>\n",
       "      <td>32</td>\n",
       "      <td>llm-driven knowledge injection advances zero-s...</td>\n",
       "      <td>2024</td>\n",
       "      <td>stance detection aims at inferring an author’s...</td>\n",
       "      <td>[naacl-2024]</td>\n",
       "      <td>2024.naacl-short.32.pdf</td>\n",
       "    </tr>\n",
       "  </tbody>\n",
       "</table>\n",
       "<p>141 rows × 6 columns</p>\n",
       "</div>"
      ],
      "text/plain": [
       "       id                                              title  year  \\\n",
       "0     126  syntopical graphs for computational argumentat...  2021   \n",
       "1     127                stance detection in covid-19 tweets  2021   \n",
       "2     128  topic-aware evidence reasoning and stance-awar...  2021   \n",
       "3       1  advances in debating technologies: building ai...  2021   \n",
       "4     147  learning from revisions: quality assessment of...  2021   \n",
       "..    ...                                                ...   ...   \n",
       "136  1385  the impact of stance object type on the qualit...  2024   \n",
       "137  1396  the role of creaky voice in turn taking and th...  2024   \n",
       "138   119  p3sum: preserving author’s perspective in news...  2024   \n",
       "139   293  emona: event-level moral opinions in news arti...  2024   \n",
       "140    32  llm-driven knowledge injection advances zero-s...  2024   \n",
       "\n",
       "                                              abstract  \\\n",
       "0    approaches to computational argumentation task...   \n",
       "1    the prevalence of the covid-19 pandemic in day...   \n",
       "2    fact verification is a challenging task that r...   \n",
       "3    the tutorial focuses on debating technologies,...   \n",
       "4    assessing the quality of arguments and of the ...   \n",
       "..                                                 ...   \n",
       "136  stance as an expression of an author’s standpo...   \n",
       "137  recent advancements in spontaneous text-to-spe...   \n",
       "138  in this work, we take a first step towards des...   \n",
       "139  most previous research on moral frames has foc...   \n",
       "140  stance detection aims at inferring an author’s...   \n",
       "\n",
       "                       venues                       url  \n",
       "0     [ijcnlp-2021, acl-2021]     2021.acl-long.126.pdf  \n",
       "1     [ijcnlp-2021, acl-2021]     2021.acl-long.127.pdf  \n",
       "2     [ijcnlp-2021, acl-2021]     2021.acl-long.128.pdf  \n",
       "3     [ijcnlp-2021, acl-2021]  2021.acl-tutorials.1.pdf  \n",
       "4                 [eacl-2021]    2021.eacl-main.147.pdf  \n",
       "..                        ...                       ...  \n",
       "136  [lrec-2024, coling-2024]   2024.lrec-main.1385.pdf  \n",
       "137  [lrec-2024, coling-2024]   2024.lrec-main.1396.pdf  \n",
       "138              [naacl-2024]   2024.naacl-long.119.pdf  \n",
       "139              [naacl-2024]   2024.naacl-long.293.pdf  \n",
       "140              [naacl-2024]   2024.naacl-short.32.pdf  \n",
       "\n",
       "[141 rows x 6 columns]"
      ]
     },
     "execution_count": 33,
     "metadata": {},
     "output_type": "execute_result"
    }
   ],
   "source": [
    "df = pd.DataFrame(matching_papers[1:], columns=matching_papers[0])\n",
    "df"
   ]
  },
  {
   "cell_type": "code",
   "execution_count": 35,
   "id": "7e223de9-0965-4d4c-bcfc-3d7faade4ea0",
   "metadata": {
    "tags": []
   },
   "outputs": [],
   "source": [
    "df.to_csv('-'.join(keywords)+f'-last{n_year}years.csv', sep=',')"
   ]
  },
  {
   "cell_type": "markdown",
   "id": "33892809-447a-4f27-b9b4-ebc94c014b7f",
   "metadata": {},
   "source": [
    "## Others "
   ]
  },
  {
   "cell_type": "markdown",
   "id": "0c9a4132-ff4c-40dc-bdc7-e002a5e0310b",
   "metadata": {
    "tags": []
   },
   "source": [
    "### Useful if creating a bibtex for Mendeley\n",
    "\n",
    "You can change the code if you need... "
   ]
  },
  {
   "cell_type": "code",
   "execution_count": 36,
   "id": "bfe0e525-256b-48bf-812c-5a45f3ed6efd",
   "metadata": {
    "tags": []
   },
   "outputs": [
    {
     "data": {
      "text/plain": [
       "'@inproceedings{chancharoen-etal-1999-pattern,\\n    title = \"Pattern-based Machine Translation for {E}nglish-{T}hai\",\\n    author = \"Chancharoen, Kaewchai  and\\n      Tannin, Nisanad  and\\n      Sirinaovakul, Booncharoen\",\\n    editor = \"Wang, Jhing-Fa  and\\n      Wu, Chung-Hsien\",\\n    booktitle = \"Proceedings of the 13th Pacific Asia Conference on Language, Information and Computation\",\\n    month = feb,\\n    year = \"1999\",\\n    address = \"National Cheng Kung University, Taiwan, R.O.C.\",\\n    publisher = \"National Cheng Kung University, Taiwan, R.O.C.\",\\n    url = \"https://aclanthology.org/Y99-1036/\",\\n    doi = \"http://hdl.handle.net/2065/12135\",\\n    pages = \"329--336\"\\n}'"
      ]
     },
     "execution_count": 36,
     "metadata": {},
     "output_type": "execute_result"
    }
   ],
   "source": [
    "paper.to_bibtex(with_abstract=False)"
   ]
  },
  {
   "cell_type": "code",
   "execution_count": null,
   "id": "69dce994-cf5c-4e0c-b244-da98f398eac7",
   "metadata": {},
   "outputs": [],
   "source": []
  }
 ],
 "metadata": {
  "kernelspec": {
   "display_name": "Python 3 (ipykernel)",
   "language": "python",
   "name": "python3"
  },
  "language_info": {
   "codemirror_mode": {
    "name": "ipython",
    "version": 3
   },
   "file_extension": ".py",
   "mimetype": "text/x-python",
   "name": "python",
   "nbconvert_exporter": "python",
   "pygments_lexer": "ipython3",
   "version": "3.11.9"
  }
 },
 "nbformat": 4,
 "nbformat_minor": 5
}
